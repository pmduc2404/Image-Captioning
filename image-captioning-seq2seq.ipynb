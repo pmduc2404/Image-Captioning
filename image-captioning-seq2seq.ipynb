{
 "cells": [
  {
   "cell_type": "code",
   "execution_count": 6,
   "id": "22fe33d9",
   "metadata": {
    "execution": {
     "iopub.execute_input": "2024-07-06T04:56:27.370289Z",
     "iopub.status.busy": "2024-07-06T04:56:27.369534Z",
     "iopub.status.idle": "2024-07-06T04:56:35.631863Z",
     "shell.execute_reply": "2024-07-06T04:56:35.630968Z"
    },
    "papermill": {
     "duration": 8.278041,
     "end_time": "2024-07-06T04:56:35.634780",
     "exception": false,
     "start_time": "2024-07-06T04:56:27.356739",
     "status": "completed"
    },
    "tags": []
   },
   "outputs": [],
   "source": [
    "import torchvision.models as models\n",
    "from torch import nn\n",
    "import torch\n",
    "import pandas as pd\n",
    "import random\n",
    "from torch.utils.data import Dataset, DataLoader\n",
    "from PIL import Image\n",
    "import os\n",
    "from torchvision.transforms import transforms\n",
    "from nltk.tokenize import word_tokenize\n",
    "from string import punctuation\n",
    "from torchtext.vocab import build_vocab_from_iterator\n",
    "from sklearn.model_selection import train_test_split\n",
    "from tqdm import tqdm\n",
    "from models import Encoder, Decoder\n",
    "import torchtext; torchtext.disable_torchtext_deprecation_warning()\n",
    "torch.manual_seed(42)\n",
    "device = 'cuda' if torch.cuda.is_available() else 'cpu'"
   ]
  },
  {
   "cell_type": "code",
   "execution_count": 7,
   "id": "414d5e51",
   "metadata": {
    "execution": {
     "iopub.execute_input": "2024-07-06T04:56:35.725775Z",
     "iopub.status.busy": "2024-07-06T04:56:35.725524Z",
     "iopub.status.idle": "2024-07-06T04:56:35.822009Z",
     "shell.execute_reply": "2024-07-06T04:56:35.821072Z"
    },
    "papermill": {
     "duration": 0.111329,
     "end_time": "2024-07-06T04:56:35.824287",
     "exception": false,
     "start_time": "2024-07-06T04:56:35.712958",
     "status": "completed"
    },
    "tags": []
   },
   "outputs": [],
   "source": [
    "data = pd.read_csv(\"./flickr8k/captions.txt\")"
   ]
  },
  {
   "cell_type": "code",
   "execution_count": 8,
   "id": "72cc0bfe",
   "metadata": {
    "execution": {
     "iopub.execute_input": "2024-07-06T04:56:35.848055Z",
     "iopub.status.busy": "2024-07-06T04:56:35.847742Z",
     "iopub.status.idle": "2024-07-06T04:56:35.864968Z",
     "shell.execute_reply": "2024-07-06T04:56:35.864070Z"
    },
    "papermill": {
     "duration": 0.031302,
     "end_time": "2024-07-06T04:56:35.867002",
     "exception": false,
     "start_time": "2024-07-06T04:56:35.835700",
     "status": "completed"
    },
    "tags": []
   },
   "outputs": [
    {
     "data": {
      "text/html": [
       "<div>\n",
       "<style scoped>\n",
       "    .dataframe tbody tr th:only-of-type {\n",
       "        vertical-align: middle;\n",
       "    }\n",
       "\n",
       "    .dataframe tbody tr th {\n",
       "        vertical-align: top;\n",
       "    }\n",
       "\n",
       "    .dataframe thead th {\n",
       "        text-align: right;\n",
       "    }\n",
       "</style>\n",
       "<table border=\"1\" class=\"dataframe\">\n",
       "  <thead>\n",
       "    <tr style=\"text-align: right;\">\n",
       "      <th></th>\n",
       "      <th>image</th>\n",
       "      <th>caption</th>\n",
       "    </tr>\n",
       "  </thead>\n",
       "  <tbody>\n",
       "    <tr>\n",
       "      <th>0</th>\n",
       "      <td>1000268201_693b08cb0e.jpg</td>\n",
       "      <td>A child in a pink dress is climbing up a set o...</td>\n",
       "    </tr>\n",
       "    <tr>\n",
       "      <th>1</th>\n",
       "      <td>1000268201_693b08cb0e.jpg</td>\n",
       "      <td>A girl going into a wooden building .</td>\n",
       "    </tr>\n",
       "    <tr>\n",
       "      <th>2</th>\n",
       "      <td>1000268201_693b08cb0e.jpg</td>\n",
       "      <td>A little girl climbing into a wooden playhouse .</td>\n",
       "    </tr>\n",
       "    <tr>\n",
       "      <th>3</th>\n",
       "      <td>1000268201_693b08cb0e.jpg</td>\n",
       "      <td>A little girl climbing the stairs to her playh...</td>\n",
       "    </tr>\n",
       "    <tr>\n",
       "      <th>4</th>\n",
       "      <td>1000268201_693b08cb0e.jpg</td>\n",
       "      <td>A little girl in a pink dress going into a woo...</td>\n",
       "    </tr>\n",
       "  </tbody>\n",
       "</table>\n",
       "</div>"
      ],
      "text/plain": [
       "                       image  \\\n",
       "0  1000268201_693b08cb0e.jpg   \n",
       "1  1000268201_693b08cb0e.jpg   \n",
       "2  1000268201_693b08cb0e.jpg   \n",
       "3  1000268201_693b08cb0e.jpg   \n",
       "4  1000268201_693b08cb0e.jpg   \n",
       "\n",
       "                                             caption  \n",
       "0  A child in a pink dress is climbing up a set o...  \n",
       "1              A girl going into a wooden building .  \n",
       "2   A little girl climbing into a wooden playhouse .  \n",
       "3  A little girl climbing the stairs to her playh...  \n",
       "4  A little girl in a pink dress going into a woo...  "
      ]
     },
     "execution_count": 8,
     "metadata": {},
     "output_type": "execute_result"
    }
   ],
   "source": [
    "data.head()"
   ]
  },
  {
   "cell_type": "code",
   "execution_count": 9,
   "id": "29d63920",
   "metadata": {
    "execution": {
     "iopub.execute_input": "2024-07-06T04:56:35.890929Z",
     "iopub.status.busy": "2024-07-06T04:56:35.890671Z",
     "iopub.status.idle": "2024-07-06T04:56:35.896557Z",
     "shell.execute_reply": "2024-07-06T04:56:35.895736Z"
    },
    "papermill": {
     "duration": 0.019655,
     "end_time": "2024-07-06T04:56:35.898365",
     "exception": false,
     "start_time": "2024-07-06T04:56:35.878710",
     "status": "completed"
    },
    "tags": []
   },
   "outputs": [],
   "source": [
    "def clean_text(text, lowercase=False, remove_punc=False, remove_num=False, sos_token='<sos>', eos_token='<eos>'):\n",
    "    if lowercase:\n",
    "        text = text.lower()\n",
    "    if remove_punc:\n",
    "        text = ''.join([ch for ch in text if ch not in punctuation])\n",
    "    if remove_num:\n",
    "        text = ''.join([ch for ch in text if ch not in '1234567890'])\n",
    "    text = [sos_token] + word_tokenize(text) + [eos_token]\n",
    "    return text"
   ]
  },
  {
   "cell_type": "code",
   "execution_count": 10,
   "id": "c2f1b75a",
   "metadata": {
    "execution": {
     "iopub.execute_input": "2024-07-06T04:56:35.921600Z",
     "iopub.status.busy": "2024-07-06T04:56:35.921344Z",
     "iopub.status.idle": "2024-07-06T04:56:35.937984Z",
     "shell.execute_reply": "2024-07-06T04:56:35.937167Z"
    },
    "papermill": {
     "duration": 0.030469,
     "end_time": "2024-07-06T04:56:35.939889",
     "exception": false,
     "start_time": "2024-07-06T04:56:35.909420",
     "status": "completed"
    },
    "tags": []
   },
   "outputs": [
    {
     "data": {
      "text/plain": [
       "['<sos>', 'a', 'cat', 'is', 'sitting', 'on', 'the', 'table', '<eos>']"
      ]
     },
     "execution_count": 10,
     "metadata": {},
     "output_type": "execute_result"
    }
   ],
   "source": [
    "clean_text(\"A cat is sitting on the table.\", lowercase=True, remove_punc=True, remove_num=True)"
   ]
  },
  {
   "cell_type": "code",
   "execution_count": 11,
   "id": "d35de143",
   "metadata": {
    "execution": {
     "iopub.execute_input": "2024-07-06T04:56:35.963663Z",
     "iopub.status.busy": "2024-07-06T04:56:35.963377Z",
     "iopub.status.idle": "2024-07-06T04:56:35.967205Z",
     "shell.execute_reply": "2024-07-06T04:56:35.966473Z"
    },
    "papermill": {
     "duration": 0.017907,
     "end_time": "2024-07-06T04:56:35.969019",
     "exception": false,
     "start_time": "2024-07-06T04:56:35.951112",
     "status": "completed"
    },
    "tags": []
   },
   "outputs": [],
   "source": [
    "unk_token = '<unk>'\n",
    "pad_token = '<pad>'\n",
    "sos_token = '<sos>'\n",
    "eos_token = '<eos>'"
   ]
  },
  {
   "cell_type": "code",
   "execution_count": 12,
   "id": "381d6fb8",
   "metadata": {
    "execution": {
     "iopub.execute_input": "2024-07-06T04:56:35.993357Z",
     "iopub.status.busy": "2024-07-06T04:56:35.992844Z",
     "iopub.status.idle": "2024-07-06T04:56:42.545408Z",
     "shell.execute_reply": "2024-07-06T04:56:42.544432Z"
    },
    "papermill": {
     "duration": 6.567616,
     "end_time": "2024-07-06T04:56:42.547830",
     "exception": false,
     "start_time": "2024-07-06T04:56:35.980214",
     "status": "completed"
    },
    "tags": []
   },
   "outputs": [],
   "source": [
    "clean_cap = data['caption'].apply(lambda x: clean_text(x, lowercase=True, remove_punc=True, remove_num=True))"
   ]
  },
  {
   "cell_type": "code",
   "execution_count": 13,
   "id": "7bfb15d1",
   "metadata": {
    "execution": {
     "iopub.execute_input": "2024-07-06T04:56:42.571927Z",
     "iopub.status.busy": "2024-07-06T04:56:42.571627Z",
     "iopub.status.idle": "2024-07-06T04:56:42.579484Z",
     "shell.execute_reply": "2024-07-06T04:56:42.578611Z"
    },
    "papermill": {
     "duration": 0.021926,
     "end_time": "2024-07-06T04:56:42.581455",
     "exception": false,
     "start_time": "2024-07-06T04:56:42.559529",
     "status": "completed"
    },
    "tags": []
   },
   "outputs": [
    {
     "data": {
      "text/plain": [
       "0    [<sos>, a, child, in, a, pink, dress, is, clim...\n",
       "1    [<sos>, a, girl, going, into, a, wooden, build...\n",
       "2    [<sos>, a, little, girl, climbing, into, a, wo...\n",
       "3    [<sos>, a, little, girl, climbing, the, stairs...\n",
       "4    [<sos>, a, little, girl, in, a, pink, dress, g...\n",
       "Name: caption, dtype: object"
      ]
     },
     "execution_count": 13,
     "metadata": {},
     "output_type": "execute_result"
    }
   ],
   "source": [
    "clean_cap.head()"
   ]
  },
  {
   "cell_type": "code",
   "execution_count": 14,
   "id": "b2ab5075",
   "metadata": {
    "execution": {
     "iopub.execute_input": "2024-07-06T04:56:42.605949Z",
     "iopub.status.busy": "2024-07-06T04:56:42.605676Z",
     "iopub.status.idle": "2024-07-06T04:56:42.611167Z",
     "shell.execute_reply": "2024-07-06T04:56:42.610330Z"
    },
    "papermill": {
     "duration": 0.019848,
     "end_time": "2024-07-06T04:56:42.613121",
     "exception": false,
     "start_time": "2024-07-06T04:56:42.593273",
     "status": "completed"
    },
    "tags": []
   },
   "outputs": [],
   "source": [
    "data['clean_caption'] = clean_cap"
   ]
  },
  {
   "cell_type": "code",
   "execution_count": 15,
   "id": "6f4f828f",
   "metadata": {
    "execution": {
     "iopub.execute_input": "2024-07-06T04:56:42.636753Z",
     "iopub.status.busy": "2024-07-06T04:56:42.636489Z",
     "iopub.status.idle": "2024-07-06T04:56:42.648833Z",
     "shell.execute_reply": "2024-07-06T04:56:42.647964Z"
    },
    "papermill": {
     "duration": 0.026168,
     "end_time": "2024-07-06T04:56:42.650625",
     "exception": false,
     "start_time": "2024-07-06T04:56:42.624457",
     "status": "completed"
    },
    "tags": []
   },
   "outputs": [
    {
     "data": {
      "text/html": [
       "<div>\n",
       "<style scoped>\n",
       "    .dataframe tbody tr th:only-of-type {\n",
       "        vertical-align: middle;\n",
       "    }\n",
       "\n",
       "    .dataframe tbody tr th {\n",
       "        vertical-align: top;\n",
       "    }\n",
       "\n",
       "    .dataframe thead th {\n",
       "        text-align: right;\n",
       "    }\n",
       "</style>\n",
       "<table border=\"1\" class=\"dataframe\">\n",
       "  <thead>\n",
       "    <tr style=\"text-align: right;\">\n",
       "      <th></th>\n",
       "      <th>image</th>\n",
       "      <th>caption</th>\n",
       "      <th>clean_caption</th>\n",
       "    </tr>\n",
       "  </thead>\n",
       "  <tbody>\n",
       "    <tr>\n",
       "      <th>0</th>\n",
       "      <td>1000268201_693b08cb0e.jpg</td>\n",
       "      <td>A child in a pink dress is climbing up a set o...</td>\n",
       "      <td>[&lt;sos&gt;, a, child, in, a, pink, dress, is, clim...</td>\n",
       "    </tr>\n",
       "    <tr>\n",
       "      <th>1</th>\n",
       "      <td>1000268201_693b08cb0e.jpg</td>\n",
       "      <td>A girl going into a wooden building .</td>\n",
       "      <td>[&lt;sos&gt;, a, girl, going, into, a, wooden, build...</td>\n",
       "    </tr>\n",
       "    <tr>\n",
       "      <th>2</th>\n",
       "      <td>1000268201_693b08cb0e.jpg</td>\n",
       "      <td>A little girl climbing into a wooden playhouse .</td>\n",
       "      <td>[&lt;sos&gt;, a, little, girl, climbing, into, a, wo...</td>\n",
       "    </tr>\n",
       "    <tr>\n",
       "      <th>3</th>\n",
       "      <td>1000268201_693b08cb0e.jpg</td>\n",
       "      <td>A little girl climbing the stairs to her playh...</td>\n",
       "      <td>[&lt;sos&gt;, a, little, girl, climbing, the, stairs...</td>\n",
       "    </tr>\n",
       "    <tr>\n",
       "      <th>4</th>\n",
       "      <td>1000268201_693b08cb0e.jpg</td>\n",
       "      <td>A little girl in a pink dress going into a woo...</td>\n",
       "      <td>[&lt;sos&gt;, a, little, girl, in, a, pink, dress, g...</td>\n",
       "    </tr>\n",
       "  </tbody>\n",
       "</table>\n",
       "</div>"
      ],
      "text/plain": [
       "                       image  \\\n",
       "0  1000268201_693b08cb0e.jpg   \n",
       "1  1000268201_693b08cb0e.jpg   \n",
       "2  1000268201_693b08cb0e.jpg   \n",
       "3  1000268201_693b08cb0e.jpg   \n",
       "4  1000268201_693b08cb0e.jpg   \n",
       "\n",
       "                                             caption  \\\n",
       "0  A child in a pink dress is climbing up a set o...   \n",
       "1              A girl going into a wooden building .   \n",
       "2   A little girl climbing into a wooden playhouse .   \n",
       "3  A little girl climbing the stairs to her playh...   \n",
       "4  A little girl in a pink dress going into a woo...   \n",
       "\n",
       "                                       clean_caption  \n",
       "0  [<sos>, a, child, in, a, pink, dress, is, clim...  \n",
       "1  [<sos>, a, girl, going, into, a, wooden, build...  \n",
       "2  [<sos>, a, little, girl, climbing, into, a, wo...  \n",
       "3  [<sos>, a, little, girl, climbing, the, stairs...  \n",
       "4  [<sos>, a, little, girl, in, a, pink, dress, g...  "
      ]
     },
     "execution_count": 15,
     "metadata": {},
     "output_type": "execute_result"
    }
   ],
   "source": [
    "data.head()"
   ]
  },
  {
   "cell_type": "code",
   "execution_count": 16,
   "id": "81c9b184",
   "metadata": {
    "execution": {
     "iopub.execute_input": "2024-07-06T04:56:42.675853Z",
     "iopub.status.busy": "2024-07-06T04:56:42.675598Z",
     "iopub.status.idle": "2024-07-06T04:56:42.878214Z",
     "shell.execute_reply": "2024-07-06T04:56:42.877436Z"
    },
    "papermill": {
     "duration": 0.217266,
     "end_time": "2024-07-06T04:56:42.880562",
     "exception": false,
     "start_time": "2024-07-06T04:56:42.663296",
     "status": "completed"
    },
    "tags": []
   },
   "outputs": [],
   "source": [
    "vocab = build_vocab_from_iterator(clean_cap, specials=[unk_token, pad_token, sos_token, eos_token])"
   ]
  },
  {
   "cell_type": "code",
   "execution_count": 17,
   "id": "d47e56a6",
   "metadata": {
    "execution": {
     "iopub.execute_input": "2024-07-06T04:56:42.905296Z",
     "iopub.status.busy": "2024-07-06T04:56:42.904968Z",
     "iopub.status.idle": "2024-07-06T04:56:42.912540Z",
     "shell.execute_reply": "2024-07-06T04:56:42.911744Z"
    },
    "papermill": {
     "duration": 0.021865,
     "end_time": "2024-07-06T04:56:42.914402",
     "exception": false,
     "start_time": "2024-07-06T04:56:42.892537",
     "status": "completed"
    },
    "tags": []
   },
   "outputs": [
    {
     "data": {
      "text/plain": [
       "['<unk>', '<pad>', '<sos>', '<eos>', 'a', 'in', 'the', 'on', 'is', 'and']"
      ]
     },
     "execution_count": 17,
     "metadata": {},
     "output_type": "execute_result"
    }
   ],
   "source": [
    "vocab.get_itos()[:10]"
   ]
  },
  {
   "cell_type": "code",
   "execution_count": 18,
   "id": "cd14a738",
   "metadata": {
    "execution": {
     "iopub.execute_input": "2024-07-06T04:56:42.938576Z",
     "iopub.status.busy": "2024-07-06T04:56:42.938311Z",
     "iopub.status.idle": "2024-07-06T04:56:42.942052Z",
     "shell.execute_reply": "2024-07-06T04:56:42.941260Z"
    },
    "papermill": {
     "duration": 0.017813,
     "end_time": "2024-07-06T04:56:42.943834",
     "exception": false,
     "start_time": "2024-07-06T04:56:42.926021",
     "status": "completed"
    },
    "tags": []
   },
   "outputs": [],
   "source": [
    "pad_token_idx = vocab[pad_token]\n",
    "unk_token_idx = vocab[unk_token]"
   ]
  },
  {
   "cell_type": "code",
   "execution_count": 19,
   "id": "53ef2769",
   "metadata": {
    "execution": {
     "iopub.execute_input": "2024-07-06T04:56:42.968207Z",
     "iopub.status.busy": "2024-07-06T04:56:42.967771Z",
     "iopub.status.idle": "2024-07-06T04:56:42.971509Z",
     "shell.execute_reply": "2024-07-06T04:56:42.970701Z"
    },
    "papermill": {
     "duration": 0.017781,
     "end_time": "2024-07-06T04:56:42.973289",
     "exception": false,
     "start_time": "2024-07-06T04:56:42.955508",
     "status": "completed"
    },
    "tags": []
   },
   "outputs": [],
   "source": [
    "vocab.set_default_index(unk_token_idx)"
   ]
  },
  {
   "cell_type": "code",
   "execution_count": 20,
   "id": "6fcf89a7",
   "metadata": {
    "execution": {
     "iopub.execute_input": "2024-07-06T04:56:42.997629Z",
     "iopub.status.busy": "2024-07-06T04:56:42.997364Z",
     "iopub.status.idle": "2024-07-06T04:56:43.001219Z",
     "shell.execute_reply": "2024-07-06T04:56:43.000377Z"
    },
    "papermill": {
     "duration": 0.017992,
     "end_time": "2024-07-06T04:56:43.002997",
     "exception": false,
     "start_time": "2024-07-06T04:56:42.985005",
     "status": "completed"
    },
    "tags": []
   },
   "outputs": [],
   "source": [
    "# to number\n",
    "def text_to_number(text, vocab):\n",
    "    return [vocab[token] for token in text]"
   ]
  },
  {
   "cell_type": "code",
   "execution_count": 21,
   "id": "0b9a4e25",
   "metadata": {
    "execution": {
     "iopub.execute_input": "2024-07-06T04:56:43.027118Z",
     "iopub.status.busy": "2024-07-06T04:56:43.026847Z",
     "iopub.status.idle": "2024-07-06T04:56:43.708740Z",
     "shell.execute_reply": "2024-07-06T04:56:43.707768Z"
    },
    "papermill": {
     "duration": 0.696549,
     "end_time": "2024-07-06T04:56:43.711117",
     "exception": false,
     "start_time": "2024-07-06T04:56:43.014568",
     "status": "completed"
    },
    "tags": []
   },
   "outputs": [],
   "source": [
    "to_int = clean_cap.apply(lambda x: text_to_number(x, vocab))"
   ]
  },
  {
   "cell_type": "code",
   "execution_count": 22,
   "id": "2ef52ccc",
   "metadata": {
    "execution": {
     "iopub.execute_input": "2024-07-06T04:56:43.735987Z",
     "iopub.status.busy": "2024-07-06T04:56:43.735695Z",
     "iopub.status.idle": "2024-07-06T04:56:43.744740Z",
     "shell.execute_reply": "2024-07-06T04:56:43.743782Z"
    },
    "papermill": {
     "duration": 0.02363,
     "end_time": "2024-07-06T04:56:43.746800",
     "exception": false,
     "start_time": "2024-07-06T04:56:43.723170",
     "status": "completed"
    },
    "tags": []
   },
   "outputs": [
    {
     "data": {
      "text/plain": [
       "0        [2, 4, 43, 5, 4, 91, 171, 8, 120, 54, 4, 400, ...\n",
       "1                      [2, 4, 20, 316, 65, 4, 196, 118, 3]\n",
       "2                 [2, 4, 41, 20, 120, 65, 4, 196, 2569, 3]\n",
       "3             [2, 4, 41, 20, 120, 6, 394, 21, 61, 2569, 3]\n",
       "4        [2, 4, 41, 20, 5, 4, 91, 171, 316, 65, 4, 196,...\n",
       "                               ...                        \n",
       "40450         [2, 4, 12, 5, 4, 91, 38, 253, 4, 85, 124, 3]\n",
       "40451             [2, 4, 12, 8, 85, 120, 197, 5, 6, 66, 3]\n",
       "40452    [2, 4, 44, 5, 4, 26, 38, 120, 54, 4, 85, 124, ...\n",
       "40453                     [2, 4, 85, 359, 5, 4, 26, 38, 3]\n",
       "40454         [2, 4, 85, 359, 1915, 7, 4, 85, 120, 110, 3]\n",
       "Name: caption, Length: 40455, dtype: object"
      ]
     },
     "execution_count": 22,
     "metadata": {},
     "output_type": "execute_result"
    }
   ],
   "source": [
    "to_int"
   ]
  },
  {
   "cell_type": "code",
   "execution_count": 23,
   "id": "722a62bc",
   "metadata": {
    "execution": {
     "iopub.execute_input": "2024-07-06T04:56:43.771286Z",
     "iopub.status.busy": "2024-07-06T04:56:43.770994Z",
     "iopub.status.idle": "2024-07-06T04:56:43.775644Z",
     "shell.execute_reply": "2024-07-06T04:56:43.774842Z"
    },
    "papermill": {
     "duration": 0.018911,
     "end_time": "2024-07-06T04:56:43.777445",
     "exception": false,
     "start_time": "2024-07-06T04:56:43.758534",
     "status": "completed"
    },
    "tags": []
   },
   "outputs": [],
   "source": [
    "data['embed_caption'] = to_int"
   ]
  },
  {
   "cell_type": "code",
   "execution_count": 24,
   "id": "0bdf1cc0",
   "metadata": {
    "execution": {
     "iopub.execute_input": "2024-07-06T04:56:43.802801Z",
     "iopub.status.busy": "2024-07-06T04:56:43.802533Z",
     "iopub.status.idle": "2024-07-06T04:56:43.816630Z",
     "shell.execute_reply": "2024-07-06T04:56:43.815746Z"
    },
    "papermill": {
     "duration": 0.029212,
     "end_time": "2024-07-06T04:56:43.818495",
     "exception": false,
     "start_time": "2024-07-06T04:56:43.789283",
     "status": "completed"
    },
    "tags": []
   },
   "outputs": [
    {
     "data": {
      "text/html": [
       "<div>\n",
       "<style scoped>\n",
       "    .dataframe tbody tr th:only-of-type {\n",
       "        vertical-align: middle;\n",
       "    }\n",
       "\n",
       "    .dataframe tbody tr th {\n",
       "        vertical-align: top;\n",
       "    }\n",
       "\n",
       "    .dataframe thead th {\n",
       "        text-align: right;\n",
       "    }\n",
       "</style>\n",
       "<table border=\"1\" class=\"dataframe\">\n",
       "  <thead>\n",
       "    <tr style=\"text-align: right;\">\n",
       "      <th></th>\n",
       "      <th>image</th>\n",
       "      <th>caption</th>\n",
       "      <th>clean_caption</th>\n",
       "      <th>embed_caption</th>\n",
       "    </tr>\n",
       "  </thead>\n",
       "  <tbody>\n",
       "    <tr>\n",
       "      <th>0</th>\n",
       "      <td>1000268201_693b08cb0e.jpg</td>\n",
       "      <td>A child in a pink dress is climbing up a set o...</td>\n",
       "      <td>[&lt;sos&gt;, a, child, in, a, pink, dress, is, clim...</td>\n",
       "      <td>[2, 4, 43, 5, 4, 91, 171, 8, 120, 54, 4, 400, ...</td>\n",
       "    </tr>\n",
       "    <tr>\n",
       "      <th>1</th>\n",
       "      <td>1000268201_693b08cb0e.jpg</td>\n",
       "      <td>A girl going into a wooden building .</td>\n",
       "      <td>[&lt;sos&gt;, a, girl, going, into, a, wooden, build...</td>\n",
       "      <td>[2, 4, 20, 316, 65, 4, 196, 118, 3]</td>\n",
       "    </tr>\n",
       "    <tr>\n",
       "      <th>2</th>\n",
       "      <td>1000268201_693b08cb0e.jpg</td>\n",
       "      <td>A little girl climbing into a wooden playhouse .</td>\n",
       "      <td>[&lt;sos&gt;, a, little, girl, climbing, into, a, wo...</td>\n",
       "      <td>[2, 4, 41, 20, 120, 65, 4, 196, 2569, 3]</td>\n",
       "    </tr>\n",
       "    <tr>\n",
       "      <th>3</th>\n",
       "      <td>1000268201_693b08cb0e.jpg</td>\n",
       "      <td>A little girl climbing the stairs to her playh...</td>\n",
       "      <td>[&lt;sos&gt;, a, little, girl, climbing, the, stairs...</td>\n",
       "      <td>[2, 4, 41, 20, 120, 6, 394, 21, 61, 2569, 3]</td>\n",
       "    </tr>\n",
       "    <tr>\n",
       "      <th>4</th>\n",
       "      <td>1000268201_693b08cb0e.jpg</td>\n",
       "      <td>A little girl in a pink dress going into a woo...</td>\n",
       "      <td>[&lt;sos&gt;, a, little, girl, in, a, pink, dress, g...</td>\n",
       "      <td>[2, 4, 41, 20, 5, 4, 91, 171, 316, 65, 4, 196,...</td>\n",
       "    </tr>\n",
       "  </tbody>\n",
       "</table>\n",
       "</div>"
      ],
      "text/plain": [
       "                       image  \\\n",
       "0  1000268201_693b08cb0e.jpg   \n",
       "1  1000268201_693b08cb0e.jpg   \n",
       "2  1000268201_693b08cb0e.jpg   \n",
       "3  1000268201_693b08cb0e.jpg   \n",
       "4  1000268201_693b08cb0e.jpg   \n",
       "\n",
       "                                             caption  \\\n",
       "0  A child in a pink dress is climbing up a set o...   \n",
       "1              A girl going into a wooden building .   \n",
       "2   A little girl climbing into a wooden playhouse .   \n",
       "3  A little girl climbing the stairs to her playh...   \n",
       "4  A little girl in a pink dress going into a woo...   \n",
       "\n",
       "                                       clean_caption  \\\n",
       "0  [<sos>, a, child, in, a, pink, dress, is, clim...   \n",
       "1  [<sos>, a, girl, going, into, a, wooden, build...   \n",
       "2  [<sos>, a, little, girl, climbing, into, a, wo...   \n",
       "3  [<sos>, a, little, girl, climbing, the, stairs...   \n",
       "4  [<sos>, a, little, girl, in, a, pink, dress, g...   \n",
       "\n",
       "                                       embed_caption  \n",
       "0  [2, 4, 43, 5, 4, 91, 171, 8, 120, 54, 4, 400, ...  \n",
       "1                [2, 4, 20, 316, 65, 4, 196, 118, 3]  \n",
       "2           [2, 4, 41, 20, 120, 65, 4, 196, 2569, 3]  \n",
       "3       [2, 4, 41, 20, 120, 6, 394, 21, 61, 2569, 3]  \n",
       "4  [2, 4, 41, 20, 5, 4, 91, 171, 316, 65, 4, 196,...  "
      ]
     },
     "execution_count": 24,
     "metadata": {},
     "output_type": "execute_result"
    }
   ],
   "source": [
    "data.head()"
   ]
  },
  {
   "cell_type": "code",
   "execution_count": 25,
   "id": "bacf73b7",
   "metadata": {
    "execution": {
     "iopub.execute_input": "2024-07-06T04:56:43.843757Z",
     "iopub.status.busy": "2024-07-06T04:56:43.843121Z",
     "iopub.status.idle": "2024-07-06T04:56:43.849000Z",
     "shell.execute_reply": "2024-07-06T04:56:43.848192Z"
    },
    "papermill": {
     "duration": 0.020374,
     "end_time": "2024-07-06T04:56:43.850813",
     "exception": false,
     "start_time": "2024-07-06T04:56:43.830439",
     "status": "completed"
    },
    "tags": []
   },
   "outputs": [
    {
     "data": {
      "text/plain": [
       "['<sos>',\n",
       " 'a',\n",
       " 'child',\n",
       " 'in',\n",
       " 'a',\n",
       " 'pink',\n",
       " 'dress',\n",
       " 'is',\n",
       " 'climbing',\n",
       " 'up',\n",
       " 'a',\n",
       " 'set',\n",
       " 'of',\n",
       " 'stairs',\n",
       " 'in',\n",
       " 'an',\n",
       " 'entry',\n",
       " 'way',\n",
       " '<eos>']"
      ]
     },
     "execution_count": 25,
     "metadata": {},
     "output_type": "execute_result"
    }
   ],
   "source": [
    "vocab.lookup_tokens(data['embed_caption'][0])"
   ]
  },
  {
   "cell_type": "code",
   "execution_count": 26,
   "id": "bb65fdd7",
   "metadata": {
    "execution": {
     "iopub.execute_input": "2024-07-06T04:56:43.875905Z",
     "iopub.status.busy": "2024-07-06T04:56:43.875670Z",
     "iopub.status.idle": "2024-07-06T04:56:43.907439Z",
     "shell.execute_reply": "2024-07-06T04:56:43.906617Z"
    },
    "papermill": {
     "duration": 0.046492,
     "end_time": "2024-07-06T04:56:43.909345",
     "exception": false,
     "start_time": "2024-07-06T04:56:43.862853",
     "status": "completed"
    },
    "tags": []
   },
   "outputs": [],
   "source": [
    "train, test = train_test_split(data, test_size=0.2, random_state=42)\n",
    "train = train.reset_index(drop=True)\n",
    "test = test.reset_index(drop=True)"
   ]
  },
  {
   "cell_type": "code",
   "execution_count": 27,
   "id": "2f8fb890",
   "metadata": {
    "execution": {
     "iopub.execute_input": "2024-07-06T04:56:43.934872Z",
     "iopub.status.busy": "2024-07-06T04:56:43.934608Z",
     "iopub.status.idle": "2024-07-06T04:56:43.939913Z",
     "shell.execute_reply": "2024-07-06T04:56:43.939100Z"
    },
    "papermill": {
     "duration": 0.020139,
     "end_time": "2024-07-06T04:56:43.941816",
     "exception": false,
     "start_time": "2024-07-06T04:56:43.921677",
     "status": "completed"
    },
    "tags": []
   },
   "outputs": [],
   "source": [
    "def get_collate_fn(pad_index):\n",
    "    def collate_fn(batch):\n",
    "        images = []\n",
    "        captions = []\n",
    "        for img, cap in batch:\n",
    "            images.append(img)\n",
    "            captions.append(cap)\n",
    "        images = torch.stack(images)\n",
    "        captions = torch.nn.utils.rnn.pad_sequence(captions, batch_first=True, padding_value=pad_index)\n",
    "        return images, captions\n",
    "\n",
    "    return collate_fn"
   ]
  },
  {
   "cell_type": "code",
   "execution_count": 28,
   "id": "4f47f6df",
   "metadata": {
    "execution": {
     "iopub.execute_input": "2024-07-06T04:56:43.967648Z",
     "iopub.status.busy": "2024-07-06T04:56:43.967390Z",
     "iopub.status.idle": "2024-07-06T04:56:43.973377Z",
     "shell.execute_reply": "2024-07-06T04:56:43.972555Z"
    },
    "papermill": {
     "duration": 0.021198,
     "end_time": "2024-07-06T04:56:43.975254",
     "exception": false,
     "start_time": "2024-07-06T04:56:43.954056",
     "status": "completed"
    },
    "tags": []
   },
   "outputs": [],
   "source": [
    "class CustomDataset(Dataset):\n",
    "    def __init__(self, root_dir, data, transform=None):\n",
    "        self.root_dir = root_dir\n",
    "        self.captions = data['embed_caption']\n",
    "        self.images = data['image']\n",
    "        self.transform = transform\n",
    "        \n",
    "    def __len__(self):\n",
    "        return len(self.captions)\n",
    "\n",
    "    def __getitem__(self, idx):\n",
    "        image = Image.open(os.path.join(self.root_dir, self.images[idx]))\n",
    "        caption = torch.tensor(self.captions[idx])\n",
    "        if self.transform:\n",
    "            image = self.transform(image)\n",
    "    \n",
    "        return image, caption"
   ]
  },
  {
   "cell_type": "code",
   "execution_count": 29,
   "id": "9cb6e239",
   "metadata": {
    "execution": {
     "iopub.execute_input": "2024-07-06T04:56:44.000515Z",
     "iopub.status.busy": "2024-07-06T04:56:44.000254Z",
     "iopub.status.idle": "2024-07-06T04:56:44.004710Z",
     "shell.execute_reply": "2024-07-06T04:56:44.003919Z"
    },
    "papermill": {
     "duration": 0.019129,
     "end_time": "2024-07-06T04:56:44.006518",
     "exception": false,
     "start_time": "2024-07-06T04:56:43.987389",
     "status": "completed"
    },
    "tags": []
   },
   "outputs": [],
   "source": [
    "transform = transforms.Compose([\n",
    "    # data type convert to tensor\n",
    "    transforms.Resize((256, 256)),\n",
    "    transforms.ToTensor(),\n",
    "    transforms.Normalize(mean=[0.5, 0.5, 0.5], std=[0.5, 0.5, 0.5])\n",
    "    \n",
    "])"
   ]
  },
  {
   "cell_type": "code",
   "execution_count": 30,
   "id": "780ae89e",
   "metadata": {
    "execution": {
     "iopub.execute_input": "2024-07-06T04:56:44.032151Z",
     "iopub.status.busy": "2024-07-06T04:56:44.031434Z",
     "iopub.status.idle": "2024-07-06T04:56:44.035590Z",
     "shell.execute_reply": "2024-07-06T04:56:44.034889Z"
    },
    "papermill": {
     "duration": 0.01877,
     "end_time": "2024-07-06T04:56:44.037399",
     "exception": false,
     "start_time": "2024-07-06T04:56:44.018629",
     "status": "completed"
    },
    "tags": []
   },
   "outputs": [],
   "source": [
    "train_dataset = CustomDataset(\"./flickr8k/Images\", train, transform=transform)\n",
    "test_dataset = CustomDataset(\"./flickr8k/Images\", test, transform=transform)"
   ]
  },
  {
   "cell_type": "code",
   "execution_count": 31,
   "id": "1b9639bb",
   "metadata": {
    "execution": {
     "iopub.execute_input": "2024-07-06T04:56:44.062597Z",
     "iopub.status.busy": "2024-07-06T04:56:44.062320Z",
     "iopub.status.idle": "2024-07-06T04:56:44.065695Z",
     "shell.execute_reply": "2024-07-06T04:56:44.064896Z"
    },
    "papermill": {
     "duration": 0.018074,
     "end_time": "2024-07-06T04:56:44.067608",
     "exception": false,
     "start_time": "2024-07-06T04:56:44.049534",
     "status": "completed"
    },
    "tags": []
   },
   "outputs": [],
   "source": [
    "batch_size = 512 \n",
    "num_workers = 4"
   ]
  },
  {
   "cell_type": "code",
   "execution_count": 32,
   "id": "9306732f",
   "metadata": {
    "execution": {
     "iopub.execute_input": "2024-07-06T04:56:44.132146Z",
     "iopub.status.busy": "2024-07-06T04:56:44.131430Z",
     "iopub.status.idle": "2024-07-06T04:56:44.137111Z",
     "shell.execute_reply": "2024-07-06T04:56:44.136221Z"
    },
    "papermill": {
     "duration": 0.059313,
     "end_time": "2024-07-06T04:56:44.139028",
     "exception": false,
     "start_time": "2024-07-06T04:56:44.079715",
     "status": "completed"
    },
    "tags": []
   },
   "outputs": [],
   "source": [
    "train_data_loader = DataLoader(train_dataset, batch_size=batch_size, shuffle=True, num_workers = num_workers, collate_fn=get_collate_fn(pad_token_idx))\n",
    "test_data_loader = DataLoader(test_dataset, batch_size=batch_size, shuffle=True, num_workers = num_workers, collate_fn=get_collate_fn(pad_token_idx))"
   ]
  },
  {
   "cell_type": "code",
   "execution_count": 33,
   "id": "ec9cea17",
   "metadata": {
    "execution": {
     "iopub.execute_input": "2024-07-06T04:56:44.164360Z",
     "iopub.status.busy": "2024-07-06T04:56:44.164107Z",
     "iopub.status.idle": "2024-07-06T04:56:44.168207Z",
     "shell.execute_reply": "2024-07-06T04:56:44.167381Z"
    },
    "papermill": {
     "duration": 0.018817,
     "end_time": "2024-07-06T04:56:44.170051",
     "exception": false,
     "start_time": "2024-07-06T04:56:44.151234",
     "status": "completed"
    },
    "tags": []
   },
   "outputs": [],
   "source": [
    "embed_dim = 256\n",
    "hidden_dim = 512\n",
    "vocab_size = len(vocab)\n",
    "num_layers = 2\n",
    "dropout = 0.5"
   ]
  },
  {
   "cell_type": "code",
   "execution_count": 34,
   "id": "f48c82f9",
   "metadata": {
    "execution": {
     "iopub.execute_input": "2024-07-06T04:56:44.195567Z",
     "iopub.status.busy": "2024-07-06T04:56:44.195320Z",
     "iopub.status.idle": "2024-07-06T04:56:45.971623Z",
     "shell.execute_reply": "2024-07-06T04:56:45.970839Z"
    },
    "papermill": {
     "duration": 1.791784,
     "end_time": "2024-07-06T04:56:45.973885",
     "exception": false,
     "start_time": "2024-07-06T04:56:44.182101",
     "status": "completed"
    },
    "tags": []
   },
   "outputs": [],
   "source": [
    "encoder = Encoder(embed_dim, dropout)\n",
    "model = Decoder(embed_dim, hidden_dim, vocab_size, num_layers, device, encoder, dropout )\n",
    "model = model.to(device)"
   ]
  },
  {
   "cell_type": "code",
   "execution_count": 35,
   "id": "f4d6a40b",
   "metadata": {
    "execution": {
     "iopub.execute_input": "2024-07-06T04:56:46.002340Z",
     "iopub.status.busy": "2024-07-06T04:56:46.001515Z",
     "iopub.status.idle": "2024-07-06T04:56:46.007822Z",
     "shell.execute_reply": "2024-07-06T04:56:46.007173Z"
    },
    "papermill": {
     "duration": 0.022311,
     "end_time": "2024-07-06T04:56:46.009675",
     "exception": false,
     "start_time": "2024-07-06T04:56:45.987364",
     "status": "completed"
    },
    "tags": []
   },
   "outputs": [],
   "source": [
    "n_epochs = 100\n",
    "learning_rate = 0.001\n",
    "optimizer = torch.optim.Adam(model.parameters(), lr=learning_rate)\n",
    "criterion = nn.CrossEntropyLoss(ignore_index = pad_token_idx)\n",
    "clip = 1.0\n",
    "teacher_forcing_ratio = 0.5\n",
    "best_valid_loss = float(\"inf\")\n"
   ]
  },
  {
   "cell_type": "code",
   "execution_count": 36,
   "id": "fa4437a1",
   "metadata": {
    "execution": {
     "iopub.execute_input": "2024-07-06T04:56:46.036548Z",
     "iopub.status.busy": "2024-07-06T04:56:46.036309Z",
     "iopub.status.idle": "2024-07-06T04:56:46.043763Z",
     "shell.execute_reply": "2024-07-06T04:56:46.042949Z"
    },
    "papermill": {
     "duration": 0.023042,
     "end_time": "2024-07-06T04:56:46.045613",
     "exception": false,
     "start_time": "2024-07-06T04:56:46.022571",
     "status": "completed"
    },
    "scrolled": true,
    "tags": []
   },
   "outputs": [],
   "source": [
    "def train_fn(model, data_loader, optimizer, criterion, clip, device):\n",
    "    model.train()\n",
    "    epoch_loss = 0\n",
    "    \n",
    "    for i, batch in enumerate(data_loader):\n",
    "        images, captions = batch\n",
    "        images, captions = images.to(device), captions.to(device)\n",
    "     \n",
    "        optimizer.zero_grad()\n",
    "        \n",
    "        captions_in = captions[:,:-1]\n",
    "        outputs = model(images, captions_in)\n",
    "        outputs = outputs.view(-1, outputs.shape[2]).to(device)\n",
    "        \n",
    "        captions = captions.view(-1)\n",
    "        \n",
    "        loss = criterion(outputs, captions)\n",
    "        loss.backward()\n",
    "\n",
    "        torch.nn.utils.clip_grad_norm_(model.parameters(), clip)\n",
    "        optimizer.step()\n",
    "        \n",
    "        epoch_loss += loss.item()\n",
    "    \n",
    "    return epoch_loss / len(data_loader)\n"
   ]
  },
  {
   "cell_type": "code",
   "execution_count": 37,
   "id": "a1d4b375",
   "metadata": {
    "execution": {
     "iopub.execute_input": "2024-07-06T04:56:46.072809Z",
     "iopub.status.busy": "2024-07-06T04:56:46.072181Z",
     "iopub.status.idle": "2024-07-06T04:56:46.078726Z",
     "shell.execute_reply": "2024-07-06T04:56:46.077866Z"
    },
    "papermill": {
     "duration": 0.022023,
     "end_time": "2024-07-06T04:56:46.080583",
     "exception": false,
     "start_time": "2024-07-06T04:56:46.058560",
     "status": "completed"
    },
    "tags": []
   },
   "outputs": [],
   "source": [
    "def evaluate_fn(model, data_loader, criterion, device):\n",
    "    model.eval()\n",
    "    epoch_loss = 0\n",
    "    with torch.no_grad():\n",
    "        for i, batch in enumerate(data_loader):\n",
    "            images, captions = batch\n",
    "            images, captions = images.to(device), captions.to(device)\n",
    "            \n",
    "            captions_in = captions[:,:-1]\n",
    "            outputs = model(images, captions_in)\n",
    "            \n",
    "            outputs = outputs.view(-1, outputs.shape[2]).to(device)\n",
    "            captions = captions.view(-1)\n",
    "        \n",
    "            loss = criterion(outputs, captions)\n",
    "            epoch_loss += loss.item()\n",
    "            \n",
    "    return epoch_loss / len(data_loader)\n"
   ]
  },
  {
   "cell_type": "code",
   "execution_count": 35,
   "id": "0def4e83",
   "metadata": {
    "execution": {
     "iopub.execute_input": "2024-07-06T04:56:46.107570Z",
     "iopub.status.busy": "2024-07-06T04:56:46.107309Z",
     "iopub.status.idle": "2024-07-06T10:39:22.686169Z",
     "shell.execute_reply": "2024-07-06T10:39:22.684902Z"
    },
    "papermill": {
     "duration": 20556.594921,
     "end_time": "2024-07-06T10:39:22.688448",
     "exception": false,
     "start_time": "2024-07-06T04:56:46.093527",
     "status": "completed"
    },
    "tags": []
   },
   "outputs": [
    {
     "name": "stderr",
     "output_type": "stream",
     "text": [
      "  1%|          | 1/100 [03:23<5:35:21, 203.24s/it]"
     ]
    },
    {
     "name": "stdout",
     "output_type": "stream",
     "text": [
      "\tTrain Loss:   5.645\n",
      "\tValid Loss:   4.709\n"
     ]
    },
    {
     "name": "stderr",
     "output_type": "stream",
     "text": [
      "  2%|▏         | 2/100 [06:48<5:33:46, 204.35s/it]"
     ]
    },
    {
     "name": "stdout",
     "output_type": "stream",
     "text": [
      "\tTrain Loss:   4.505\n",
      "\tValid Loss:   4.271\n"
     ]
    },
    {
     "name": "stderr",
     "output_type": "stream",
     "text": [
      "  3%|▎         | 3/100 [10:13<5:31:14, 204.89s/it]"
     ]
    },
    {
     "name": "stdout",
     "output_type": "stream",
     "text": [
      "\tTrain Loss:   4.100\n",
      "\tValid Loss:   3.969\n"
     ]
    },
    {
     "name": "stderr",
     "output_type": "stream",
     "text": [
      "  4%|▍         | 4/100 [13:38<5:27:56, 204.96s/it]"
     ]
    },
    {
     "name": "stdout",
     "output_type": "stream",
     "text": [
      "\tTrain Loss:   3.872\n",
      "\tValid Loss:   3.798\n"
     ]
    },
    {
     "name": "stderr",
     "output_type": "stream",
     "text": [
      "  5%|▌         | 5/100 [17:04<5:24:50, 205.16s/it]"
     ]
    },
    {
     "name": "stdout",
     "output_type": "stream",
     "text": [
      "\tTrain Loss:   3.723\n",
      "\tValid Loss:   3.681\n"
     ]
    },
    {
     "name": "stderr",
     "output_type": "stream",
     "text": [
      "  6%|▌         | 6/100 [20:29<5:21:33, 205.25s/it]"
     ]
    },
    {
     "name": "stdout",
     "output_type": "stream",
     "text": [
      "\tTrain Loss:   3.605\n",
      "\tValid Loss:   3.584\n"
     ]
    },
    {
     "name": "stderr",
     "output_type": "stream",
     "text": [
      "  7%|▋         | 7/100 [23:55<5:18:30, 205.49s/it]"
     ]
    },
    {
     "name": "stdout",
     "output_type": "stream",
     "text": [
      "\tTrain Loss:   3.510\n",
      "\tValid Loss:   3.498\n"
     ]
    },
    {
     "name": "stderr",
     "output_type": "stream",
     "text": [
      "  8%|▊         | 8/100 [27:21<5:15:17, 205.62s/it]"
     ]
    },
    {
     "name": "stdout",
     "output_type": "stream",
     "text": [
      "\tTrain Loss:   3.426\n",
      "\tValid Loss:   3.433\n"
     ]
    },
    {
     "name": "stderr",
     "output_type": "stream",
     "text": [
      "  9%|▉         | 9/100 [30:47<5:11:56, 205.67s/it]"
     ]
    },
    {
     "name": "stdout",
     "output_type": "stream",
     "text": [
      "\tTrain Loss:   3.349\n",
      "\tValid Loss:   3.368\n"
     ]
    },
    {
     "name": "stderr",
     "output_type": "stream",
     "text": [
      " 10%|█         | 10/100 [34:13<5:08:30, 205.67s/it]"
     ]
    },
    {
     "name": "stdout",
     "output_type": "stream",
     "text": [
      "\tTrain Loss:   3.277\n",
      "\tValid Loss:   3.302\n"
     ]
    },
    {
     "name": "stderr",
     "output_type": "stream",
     "text": [
      " 11%|█         | 11/100 [37:39<5:05:24, 205.90s/it]"
     ]
    },
    {
     "name": "stdout",
     "output_type": "stream",
     "text": [
      "\tTrain Loss:   3.217\n",
      "\tValid Loss:   3.262\n"
     ]
    },
    {
     "name": "stderr",
     "output_type": "stream",
     "text": [
      " 12%|█▏        | 12/100 [41:05<5:02:06, 205.99s/it]"
     ]
    },
    {
     "name": "stdout",
     "output_type": "stream",
     "text": [
      "\tTrain Loss:   3.166\n",
      "\tValid Loss:   3.222\n"
     ]
    },
    {
     "name": "stderr",
     "output_type": "stream",
     "text": [
      " 13%|█▎        | 13/100 [44:30<4:58:18, 205.73s/it]"
     ]
    },
    {
     "name": "stdout",
     "output_type": "stream",
     "text": [
      "\tTrain Loss:   3.122\n",
      "\tValid Loss:   3.185\n"
     ]
    },
    {
     "name": "stderr",
     "output_type": "stream",
     "text": [
      " 14%|█▍        | 14/100 [47:57<4:55:15, 205.99s/it]"
     ]
    },
    {
     "name": "stdout",
     "output_type": "stream",
     "text": [
      "\tTrain Loss:   3.079\n",
      "\tValid Loss:   3.158\n"
     ]
    },
    {
     "name": "stderr",
     "output_type": "stream",
     "text": [
      " 15%|█▌        | 15/100 [51:22<4:51:31, 205.78s/it]"
     ]
    },
    {
     "name": "stdout",
     "output_type": "stream",
     "text": [
      "\tTrain Loss:   3.036\n",
      "\tValid Loss:   3.127\n"
     ]
    },
    {
     "name": "stderr",
     "output_type": "stream",
     "text": [
      " 16%|█▌        | 16/100 [54:48<4:48:13, 205.88s/it]"
     ]
    },
    {
     "name": "stdout",
     "output_type": "stream",
     "text": [
      "\tTrain Loss:   2.997\n",
      "\tValid Loss:   3.099\n"
     ]
    },
    {
     "name": "stderr",
     "output_type": "stream",
     "text": [
      " 17%|█▋        | 17/100 [58:14<4:44:44, 205.84s/it]"
     ]
    },
    {
     "name": "stdout",
     "output_type": "stream",
     "text": [
      "\tTrain Loss:   2.959\n",
      "\tValid Loss:   3.066\n"
     ]
    },
    {
     "name": "stderr",
     "output_type": "stream",
     "text": [
      " 18%|█▊        | 18/100 [1:01:40<4:41:18, 205.84s/it]"
     ]
    },
    {
     "name": "stdout",
     "output_type": "stream",
     "text": [
      "\tTrain Loss:   2.924\n",
      "\tValid Loss:   3.045\n"
     ]
    },
    {
     "name": "stderr",
     "output_type": "stream",
     "text": [
      " 19%|█▉        | 19/100 [1:05:05<4:37:30, 205.56s/it]"
     ]
    },
    {
     "name": "stdout",
     "output_type": "stream",
     "text": [
      "\tTrain Loss:   2.891\n",
      "\tValid Loss:   3.025\n"
     ]
    },
    {
     "name": "stderr",
     "output_type": "stream",
     "text": [
      " 20%|██        | 20/100 [1:08:31<4:34:06, 205.59s/it]"
     ]
    },
    {
     "name": "stdout",
     "output_type": "stream",
     "text": [
      "\tTrain Loss:   2.858\n",
      "\tValid Loss:   3.005\n"
     ]
    },
    {
     "name": "stderr",
     "output_type": "stream",
     "text": [
      " 21%|██        | 21/100 [1:11:56<4:30:37, 205.54s/it]"
     ]
    },
    {
     "name": "stdout",
     "output_type": "stream",
     "text": [
      "\tTrain Loss:   2.829\n",
      "\tValid Loss:   2.989\n"
     ]
    },
    {
     "name": "stderr",
     "output_type": "stream",
     "text": [
      " 22%|██▏       | 22/100 [1:15:21<4:27:00, 205.39s/it]"
     ]
    },
    {
     "name": "stdout",
     "output_type": "stream",
     "text": [
      "\tTrain Loss:   2.800\n",
      "\tValid Loss:   2.972\n"
     ]
    },
    {
     "name": "stderr",
     "output_type": "stream",
     "text": [
      " 23%|██▎       | 23/100 [1:18:47<4:23:41, 205.47s/it]"
     ]
    },
    {
     "name": "stdout",
     "output_type": "stream",
     "text": [
      "\tTrain Loss:   2.771\n",
      "\tValid Loss:   2.955\n"
     ]
    },
    {
     "name": "stderr",
     "output_type": "stream",
     "text": [
      " 24%|██▍       | 24/100 [1:22:12<4:20:09, 205.39s/it]"
     ]
    },
    {
     "name": "stdout",
     "output_type": "stream",
     "text": [
      "\tTrain Loss:   2.745\n",
      "\tValid Loss:   2.938\n"
     ]
    },
    {
     "name": "stderr",
     "output_type": "stream",
     "text": [
      " 25%|██▌       | 25/100 [1:25:38<4:17:00, 205.61s/it]"
     ]
    },
    {
     "name": "stdout",
     "output_type": "stream",
     "text": [
      "\tTrain Loss:   2.720\n",
      "\tValid Loss:   2.922\n"
     ]
    },
    {
     "name": "stderr",
     "output_type": "stream",
     "text": [
      " 26%|██▌       | 26/100 [1:29:03<4:13:29, 205.54s/it]"
     ]
    },
    {
     "name": "stdout",
     "output_type": "stream",
     "text": [
      "\tTrain Loss:   2.691\n",
      "\tValid Loss:   2.912\n"
     ]
    },
    {
     "name": "stderr",
     "output_type": "stream",
     "text": [
      " 27%|██▋       | 27/100 [1:32:30<4:10:15, 205.70s/it]"
     ]
    },
    {
     "name": "stdout",
     "output_type": "stream",
     "text": [
      "\tTrain Loss:   2.668\n",
      "\tValid Loss:   2.895\n"
     ]
    },
    {
     "name": "stderr",
     "output_type": "stream",
     "text": [
      " 28%|██▊       | 28/100 [1:35:55<4:06:43, 205.60s/it]"
     ]
    },
    {
     "name": "stdout",
     "output_type": "stream",
     "text": [
      "\tTrain Loss:   2.645\n",
      "\tValid Loss:   2.885\n"
     ]
    },
    {
     "name": "stderr",
     "output_type": "stream",
     "text": [
      " 29%|██▉       | 29/100 [1:39:21<4:03:20, 205.65s/it]"
     ]
    },
    {
     "name": "stdout",
     "output_type": "stream",
     "text": [
      "\tTrain Loss:   2.621\n",
      "\tValid Loss:   2.880\n"
     ]
    },
    {
     "name": "stderr",
     "output_type": "stream",
     "text": [
      " 30%|███       | 30/100 [1:42:46<3:59:45, 205.50s/it]"
     ]
    },
    {
     "name": "stdout",
     "output_type": "stream",
     "text": [
      "\tTrain Loss:   2.600\n",
      "\tValid Loss:   2.870\n"
     ]
    },
    {
     "name": "stderr",
     "output_type": "stream",
     "text": [
      " 31%|███       | 31/100 [1:46:11<3:56:16, 205.46s/it]"
     ]
    },
    {
     "name": "stdout",
     "output_type": "stream",
     "text": [
      "\tTrain Loss:   2.578\n",
      "\tValid Loss:   2.862\n"
     ]
    },
    {
     "name": "stderr",
     "output_type": "stream",
     "text": [
      " 32%|███▏      | 32/100 [1:49:37<3:53:00, 205.59s/it]"
     ]
    },
    {
     "name": "stdout",
     "output_type": "stream",
     "text": [
      "\tTrain Loss:   2.559\n",
      "\tValid Loss:   2.853\n"
     ]
    },
    {
     "name": "stderr",
     "output_type": "stream",
     "text": [
      " 33%|███▎      | 33/100 [1:53:02<3:49:25, 205.45s/it]"
     ]
    },
    {
     "name": "stdout",
     "output_type": "stream",
     "text": [
      "\tTrain Loss:   2.540\n",
      "\tValid Loss:   2.846\n"
     ]
    },
    {
     "name": "stderr",
     "output_type": "stream",
     "text": [
      " 34%|███▍      | 34/100 [1:56:28<3:46:02, 205.50s/it]"
     ]
    },
    {
     "name": "stdout",
     "output_type": "stream",
     "text": [
      "\tTrain Loss:   2.520\n",
      "\tValid Loss:   2.841\n"
     ]
    },
    {
     "name": "stderr",
     "output_type": "stream",
     "text": [
      " 35%|███▌      | 35/100 [1:59:53<3:42:29, 205.38s/it]"
     ]
    },
    {
     "name": "stdout",
     "output_type": "stream",
     "text": [
      "\tTrain Loss:   2.500\n",
      "\tValid Loss:   2.838\n"
     ]
    },
    {
     "name": "stderr",
     "output_type": "stream",
     "text": [
      " 36%|███▌      | 36/100 [2:03:19<3:39:19, 205.62s/it]"
     ]
    },
    {
     "name": "stdout",
     "output_type": "stream",
     "text": [
      "\tTrain Loss:   2.483\n",
      "\tValid Loss:   2.830\n"
     ]
    },
    {
     "name": "stderr",
     "output_type": "stream",
     "text": [
      " 37%|███▋      | 37/100 [2:06:44<3:35:43, 205.45s/it]"
     ]
    },
    {
     "name": "stdout",
     "output_type": "stream",
     "text": [
      "\tTrain Loss:   2.465\n",
      "\tValid Loss:   2.825\n"
     ]
    },
    {
     "name": "stderr",
     "output_type": "stream",
     "text": [
      " 38%|███▊      | 38/100 [2:10:10<3:32:24, 205.56s/it]"
     ]
    },
    {
     "name": "stdout",
     "output_type": "stream",
     "text": [
      "\tTrain Loss:   2.449\n",
      "\tValid Loss:   2.821\n"
     ]
    },
    {
     "name": "stderr",
     "output_type": "stream",
     "text": [
      " 39%|███▉      | 39/100 [2:13:36<3:29:05, 205.67s/it]"
     ]
    },
    {
     "name": "stdout",
     "output_type": "stream",
     "text": [
      "\tTrain Loss:   2.430\n",
      "\tValid Loss:   2.814\n"
     ]
    },
    {
     "name": "stderr",
     "output_type": "stream",
     "text": [
      " 40%|████      | 40/100 [2:17:02<3:25:49, 205.83s/it]"
     ]
    },
    {
     "name": "stdout",
     "output_type": "stream",
     "text": [
      "\tTrain Loss:   2.414\n",
      "\tValid Loss:   2.812\n"
     ]
    },
    {
     "name": "stderr",
     "output_type": "stream",
     "text": [
      " 41%|████      | 41/100 [2:20:28<3:22:25, 205.85s/it]"
     ]
    },
    {
     "name": "stdout",
     "output_type": "stream",
     "text": [
      "\tTrain Loss:   2.396\n",
      "\tValid Loss:   2.810\n"
     ]
    },
    {
     "name": "stderr",
     "output_type": "stream",
     "text": [
      " 42%|████▏     | 42/100 [2:23:53<3:18:37, 205.48s/it]"
     ]
    },
    {
     "name": "stdout",
     "output_type": "stream",
     "text": [
      "\tTrain Loss:   2.382\n",
      "\tValid Loss:   2.806\n"
     ]
    },
    {
     "name": "stderr",
     "output_type": "stream",
     "text": [
      " 43%|████▎     | 43/100 [2:27:18<3:15:06, 205.38s/it]"
     ]
    },
    {
     "name": "stdout",
     "output_type": "stream",
     "text": [
      "\tTrain Loss:   2.366\n",
      "\tValid Loss:   2.802\n"
     ]
    },
    {
     "name": "stderr",
     "output_type": "stream",
     "text": [
      " 44%|████▍     | 44/100 [2:30:43<3:11:47, 205.49s/it]"
     ]
    },
    {
     "name": "stdout",
     "output_type": "stream",
     "text": [
      "\tTrain Loss:   2.348\n",
      "\tValid Loss:   2.798\n"
     ]
    },
    {
     "name": "stderr",
     "output_type": "stream",
     "text": [
      " 45%|████▌     | 45/100 [2:34:09<3:08:26, 205.57s/it]"
     ]
    },
    {
     "name": "stdout",
     "output_type": "stream",
     "text": [
      "\tTrain Loss:   2.335\n",
      "\tValid Loss:   2.797\n"
     ]
    },
    {
     "name": "stderr",
     "output_type": "stream",
     "text": [
      " 46%|████▌     | 46/100 [2:37:35<3:05:08, 205.71s/it]"
     ]
    },
    {
     "name": "stdout",
     "output_type": "stream",
     "text": [
      "\tTrain Loss:   2.320\n",
      "\tValid Loss:   2.793\n"
     ]
    },
    {
     "name": "stderr",
     "output_type": "stream",
     "text": [
      " 47%|████▋     | 47/100 [2:41:01<3:01:50, 205.86s/it]"
     ]
    },
    {
     "name": "stdout",
     "output_type": "stream",
     "text": [
      "\tTrain Loss:   2.304\n",
      "\tValid Loss:   2.789\n"
     ]
    },
    {
     "name": "stderr",
     "output_type": "stream",
     "text": [
      " 48%|████▊     | 48/100 [2:44:26<2:58:02, 205.43s/it]"
     ]
    },
    {
     "name": "stdout",
     "output_type": "stream",
     "text": [
      "\tTrain Loss:   2.291\n",
      "\tValid Loss:   2.790\n"
     ]
    },
    {
     "name": "stderr",
     "output_type": "stream",
     "text": [
      " 49%|████▉     | 49/100 [2:47:52<2:54:46, 205.61s/it]"
     ]
    },
    {
     "name": "stdout",
     "output_type": "stream",
     "text": [
      "\tTrain Loss:   2.278\n",
      "\tValid Loss:   2.785\n"
     ]
    },
    {
     "name": "stderr",
     "output_type": "stream",
     "text": [
      " 50%|█████     | 50/100 [2:51:17<2:51:13, 205.48s/it]"
     ]
    },
    {
     "name": "stdout",
     "output_type": "stream",
     "text": [
      "\tTrain Loss:   2.264\n",
      "\tValid Loss:   2.785\n"
     ]
    },
    {
     "name": "stderr",
     "output_type": "stream",
     "text": [
      " 51%|█████     | 51/100 [2:54:43<2:47:56, 205.63s/it]"
     ]
    },
    {
     "name": "stdout",
     "output_type": "stream",
     "text": [
      "\tTrain Loss:   2.252\n",
      "\tValid Loss:   2.783\n"
     ]
    },
    {
     "name": "stderr",
     "output_type": "stream",
     "text": [
      " 52%|█████▏    | 52/100 [2:58:08<2:44:20, 205.42s/it]"
     ]
    },
    {
     "name": "stdout",
     "output_type": "stream",
     "text": [
      "\tTrain Loss:   2.237\n",
      "\tValid Loss:   2.783\n"
     ]
    },
    {
     "name": "stderr",
     "output_type": "stream",
     "text": [
      " 53%|█████▎    | 53/100 [3:01:34<2:40:58, 205.49s/it]"
     ]
    },
    {
     "name": "stdout",
     "output_type": "stream",
     "text": [
      "\tTrain Loss:   2.226\n",
      "\tValid Loss:   2.782\n"
     ]
    },
    {
     "name": "stderr",
     "output_type": "stream",
     "text": [
      " 54%|█████▍    | 54/100 [3:05:00<2:37:37, 205.60s/it]"
     ]
    },
    {
     "name": "stdout",
     "output_type": "stream",
     "text": [
      "\tTrain Loss:   2.213\n",
      "\tValid Loss:   2.782\n"
     ]
    },
    {
     "name": "stderr",
     "output_type": "stream",
     "text": [
      " 55%|█████▌    | 55/100 [3:08:25<2:34:10, 205.56s/it]"
     ]
    },
    {
     "name": "stdout",
     "output_type": "stream",
     "text": [
      "\tTrain Loss:   2.200\n",
      "\tValid Loss:   2.782\n"
     ]
    },
    {
     "name": "stderr",
     "output_type": "stream",
     "text": [
      " 56%|█████▌    | 56/100 [3:11:50<2:30:43, 205.53s/it]"
     ]
    },
    {
     "name": "stdout",
     "output_type": "stream",
     "text": [
      "\tTrain Loss:   2.188\n",
      "\tValid Loss:   2.783\n"
     ]
    },
    {
     "name": "stderr",
     "output_type": "stream",
     "text": [
      " 57%|█████▋    | 57/100 [3:15:16<2:27:15, 205.48s/it]"
     ]
    },
    {
     "name": "stdout",
     "output_type": "stream",
     "text": [
      "\tTrain Loss:   2.175\n",
      "\tValid Loss:   2.783\n"
     ]
    },
    {
     "name": "stderr",
     "output_type": "stream",
     "text": [
      " 58%|█████▊    | 58/100 [3:18:42<2:23:54, 205.58s/it]"
     ]
    },
    {
     "name": "stdout",
     "output_type": "stream",
     "text": [
      "\tTrain Loss:   2.165\n",
      "\tValid Loss:   2.783\n"
     ]
    },
    {
     "name": "stderr",
     "output_type": "stream",
     "text": [
      " 59%|█████▉    | 59/100 [3:22:07<2:20:30, 205.63s/it]"
     ]
    },
    {
     "name": "stdout",
     "output_type": "stream",
     "text": [
      "\tTrain Loss:   2.154\n",
      "\tValid Loss:   2.780\n"
     ]
    },
    {
     "name": "stderr",
     "output_type": "stream",
     "text": [
      " 60%|██████    | 60/100 [3:25:33<2:16:59, 205.49s/it]"
     ]
    },
    {
     "name": "stdout",
     "output_type": "stream",
     "text": [
      "\tTrain Loss:   2.143\n",
      "\tValid Loss:   2.781\n"
     ]
    },
    {
     "name": "stderr",
     "output_type": "stream",
     "text": [
      " 61%|██████    | 61/100 [3:28:58<2:13:30, 205.39s/it]"
     ]
    },
    {
     "name": "stdout",
     "output_type": "stream",
     "text": [
      "\tTrain Loss:   2.132\n",
      "\tValid Loss:   2.781\n"
     ]
    },
    {
     "name": "stderr",
     "output_type": "stream",
     "text": [
      " 62%|██████▏   | 62/100 [3:32:23<2:10:06, 205.45s/it]"
     ]
    },
    {
     "name": "stdout",
     "output_type": "stream",
     "text": [
      "\tTrain Loss:   2.121\n",
      "\tValid Loss:   2.784\n"
     ]
    },
    {
     "name": "stderr",
     "output_type": "stream",
     "text": [
      " 63%|██████▎   | 63/100 [3:35:49<2:06:38, 205.38s/it]"
     ]
    },
    {
     "name": "stdout",
     "output_type": "stream",
     "text": [
      "\tTrain Loss:   2.110\n",
      "\tValid Loss:   2.784\n"
     ]
    },
    {
     "name": "stderr",
     "output_type": "stream",
     "text": [
      " 64%|██████▍   | 64/100 [3:39:15<2:03:23, 205.64s/it]"
     ]
    },
    {
     "name": "stdout",
     "output_type": "stream",
     "text": [
      "\tTrain Loss:   2.098\n",
      "\tValid Loss:   2.786\n"
     ]
    },
    {
     "name": "stderr",
     "output_type": "stream",
     "text": [
      " 65%|██████▌   | 65/100 [3:42:40<1:59:57, 205.66s/it]"
     ]
    },
    {
     "name": "stdout",
     "output_type": "stream",
     "text": [
      "\tTrain Loss:   2.091\n",
      "\tValid Loss:   2.785\n"
     ]
    },
    {
     "name": "stderr",
     "output_type": "stream",
     "text": [
      " 66%|██████▌   | 66/100 [3:46:06<1:56:27, 205.53s/it]"
     ]
    },
    {
     "name": "stdout",
     "output_type": "stream",
     "text": [
      "\tTrain Loss:   2.079\n",
      "\tValid Loss:   2.787\n"
     ]
    },
    {
     "name": "stderr",
     "output_type": "stream",
     "text": [
      " 67%|██████▋   | 67/100 [3:49:31<1:52:59, 205.43s/it]"
     ]
    },
    {
     "name": "stdout",
     "output_type": "stream",
     "text": [
      "\tTrain Loss:   2.069\n",
      "\tValid Loss:   2.787\n"
     ]
    },
    {
     "name": "stderr",
     "output_type": "stream",
     "text": [
      " 68%|██████▊   | 68/100 [3:52:57<1:49:35, 205.49s/it]"
     ]
    },
    {
     "name": "stdout",
     "output_type": "stream",
     "text": [
      "\tTrain Loss:   2.058\n",
      "\tValid Loss:   2.787\n"
     ]
    },
    {
     "name": "stderr",
     "output_type": "stream",
     "text": [
      " 69%|██████▉   | 69/100 [3:56:22<1:46:08, 205.45s/it]"
     ]
    },
    {
     "name": "stdout",
     "output_type": "stream",
     "text": [
      "\tTrain Loss:   2.048\n",
      "\tValid Loss:   2.789\n"
     ]
    },
    {
     "name": "stderr",
     "output_type": "stream",
     "text": [
      " 70%|███████   | 70/100 [3:59:48<1:42:46, 205.55s/it]"
     ]
    },
    {
     "name": "stdout",
     "output_type": "stream",
     "text": [
      "\tTrain Loss:   2.038\n",
      "\tValid Loss:   2.790\n"
     ]
    },
    {
     "name": "stderr",
     "output_type": "stream",
     "text": [
      " 71%|███████   | 71/100 [4:03:13<1:39:22, 205.61s/it]"
     ]
    },
    {
     "name": "stdout",
     "output_type": "stream",
     "text": [
      "\tTrain Loss:   2.030\n",
      "\tValid Loss:   2.792\n"
     ]
    },
    {
     "name": "stderr",
     "output_type": "stream",
     "text": [
      " 72%|███████▏  | 72/100 [4:06:38<1:35:51, 205.42s/it]"
     ]
    },
    {
     "name": "stdout",
     "output_type": "stream",
     "text": [
      "\tTrain Loss:   2.022\n",
      "\tValid Loss:   2.791\n"
     ]
    },
    {
     "name": "stderr",
     "output_type": "stream",
     "text": [
      " 73%|███████▎  | 73/100 [4:10:04<1:32:30, 205.57s/it]"
     ]
    },
    {
     "name": "stdout",
     "output_type": "stream",
     "text": [
      "\tTrain Loss:   2.012\n",
      "\tValid Loss:   2.794\n"
     ]
    },
    {
     "name": "stderr",
     "output_type": "stream",
     "text": [
      " 74%|███████▍  | 74/100 [4:13:29<1:29:01, 205.44s/it]"
     ]
    },
    {
     "name": "stdout",
     "output_type": "stream",
     "text": [
      "\tTrain Loss:   2.002\n",
      "\tValid Loss:   2.794\n"
     ]
    },
    {
     "name": "stderr",
     "output_type": "stream",
     "text": [
      " 75%|███████▌  | 75/100 [4:16:55<1:25:36, 205.45s/it]"
     ]
    },
    {
     "name": "stdout",
     "output_type": "stream",
     "text": [
      "\tTrain Loss:   1.993\n",
      "\tValid Loss:   2.796\n"
     ]
    },
    {
     "name": "stderr",
     "output_type": "stream",
     "text": [
      " 76%|███████▌  | 76/100 [4:20:20<1:22:05, 205.24s/it]"
     ]
    },
    {
     "name": "stdout",
     "output_type": "stream",
     "text": [
      "\tTrain Loss:   1.987\n",
      "\tValid Loss:   2.800\n"
     ]
    },
    {
     "name": "stderr",
     "output_type": "stream",
     "text": [
      " 77%|███████▋  | 77/100 [4:23:45<1:18:43, 205.35s/it]"
     ]
    },
    {
     "name": "stdout",
     "output_type": "stream",
     "text": [
      "\tTrain Loss:   1.976\n",
      "\tValid Loss:   2.798\n"
     ]
    },
    {
     "name": "stderr",
     "output_type": "stream",
     "text": [
      " 78%|███████▊  | 78/100 [4:27:11<1:15:17, 205.33s/it]"
     ]
    },
    {
     "name": "stdout",
     "output_type": "stream",
     "text": [
      "\tTrain Loss:   1.967\n",
      "\tValid Loss:   2.801\n"
     ]
    },
    {
     "name": "stderr",
     "output_type": "stream",
     "text": [
      " 79%|███████▉  | 79/100 [4:30:36<1:11:52, 205.36s/it]"
     ]
    },
    {
     "name": "stdout",
     "output_type": "stream",
     "text": [
      "\tTrain Loss:   1.958\n",
      "\tValid Loss:   2.804\n"
     ]
    },
    {
     "name": "stderr",
     "output_type": "stream",
     "text": [
      " 80%|████████  | 80/100 [4:34:01<1:08:27, 205.37s/it]"
     ]
    },
    {
     "name": "stdout",
     "output_type": "stream",
     "text": [
      "\tTrain Loss:   1.949\n",
      "\tValid Loss:   2.805\n"
     ]
    },
    {
     "name": "stderr",
     "output_type": "stream",
     "text": [
      " 81%|████████  | 81/100 [4:37:27<1:05:03, 205.43s/it]"
     ]
    },
    {
     "name": "stdout",
     "output_type": "stream",
     "text": [
      "\tTrain Loss:   1.942\n",
      "\tValid Loss:   2.808\n"
     ]
    },
    {
     "name": "stderr",
     "output_type": "stream",
     "text": [
      " 82%|████████▏ | 82/100 [4:40:52<1:01:38, 205.45s/it]"
     ]
    },
    {
     "name": "stdout",
     "output_type": "stream",
     "text": [
      "\tTrain Loss:   1.932\n",
      "\tValid Loss:   2.811\n"
     ]
    },
    {
     "name": "stderr",
     "output_type": "stream",
     "text": [
      " 83%|████████▎ | 83/100 [4:44:18<58:13, 205.53s/it]  "
     ]
    },
    {
     "name": "stdout",
     "output_type": "stream",
     "text": [
      "\tTrain Loss:   1.922\n",
      "\tValid Loss:   2.813\n"
     ]
    },
    {
     "name": "stderr",
     "output_type": "stream",
     "text": [
      " 84%|████████▍ | 84/100 [4:47:44<54:51, 205.73s/it]"
     ]
    },
    {
     "name": "stdout",
     "output_type": "stream",
     "text": [
      "\tTrain Loss:   1.918\n",
      "\tValid Loss:   2.815\n"
     ]
    },
    {
     "name": "stderr",
     "output_type": "stream",
     "text": [
      " 85%|████████▌ | 85/100 [4:51:10<51:23, 205.58s/it]"
     ]
    },
    {
     "name": "stdout",
     "output_type": "stream",
     "text": [
      "\tTrain Loss:   1.911\n",
      "\tValid Loss:   2.817\n"
     ]
    },
    {
     "name": "stderr",
     "output_type": "stream",
     "text": [
      " 86%|████████▌ | 86/100 [4:54:36<47:59, 205.69s/it]"
     ]
    },
    {
     "name": "stdout",
     "output_type": "stream",
     "text": [
      "\tTrain Loss:   1.902\n",
      "\tValid Loss:   2.819\n"
     ]
    },
    {
     "name": "stderr",
     "output_type": "stream",
     "text": [
      " 87%|████████▋ | 87/100 [4:58:01<44:33, 205.65s/it]"
     ]
    },
    {
     "name": "stdout",
     "output_type": "stream",
     "text": [
      "\tTrain Loss:   1.894\n",
      "\tValid Loss:   2.820\n"
     ]
    },
    {
     "name": "stderr",
     "output_type": "stream",
     "text": [
      " 88%|████████▊ | 88/100 [5:01:26<41:06, 205.56s/it]"
     ]
    },
    {
     "name": "stdout",
     "output_type": "stream",
     "text": [
      "\tTrain Loss:   1.886\n",
      "\tValid Loss:   2.825\n"
     ]
    },
    {
     "name": "stderr",
     "output_type": "stream",
     "text": [
      " 89%|████████▉ | 89/100 [5:04:52<37:42, 205.66s/it]"
     ]
    },
    {
     "name": "stdout",
     "output_type": "stream",
     "text": [
      "\tTrain Loss:   1.879\n",
      "\tValid Loss:   2.829\n"
     ]
    },
    {
     "name": "stderr",
     "output_type": "stream",
     "text": [
      " 90%|█████████ | 90/100 [5:08:18<34:16, 205.64s/it]"
     ]
    },
    {
     "name": "stdout",
     "output_type": "stream",
     "text": [
      "\tTrain Loss:   1.870\n",
      "\tValid Loss:   2.831\n"
     ]
    },
    {
     "name": "stderr",
     "output_type": "stream",
     "text": [
      " 91%|█████████ | 91/100 [5:11:43<30:50, 205.60s/it]"
     ]
    },
    {
     "name": "stdout",
     "output_type": "stream",
     "text": [
      "\tTrain Loss:   1.866\n",
      "\tValid Loss:   2.831\n"
     ]
    },
    {
     "name": "stderr",
     "output_type": "stream",
     "text": [
      " 92%|█████████▏| 92/100 [5:15:09<27:25, 205.65s/it]"
     ]
    },
    {
     "name": "stdout",
     "output_type": "stream",
     "text": [
      "\tTrain Loss:   1.857\n",
      "\tValid Loss:   2.834\n"
     ]
    },
    {
     "name": "stderr",
     "output_type": "stream",
     "text": [
      " 93%|█████████▎| 93/100 [5:18:36<24:01, 205.93s/it]"
     ]
    },
    {
     "name": "stdout",
     "output_type": "stream",
     "text": [
      "\tTrain Loss:   1.850\n",
      "\tValid Loss:   2.837\n"
     ]
    },
    {
     "name": "stderr",
     "output_type": "stream",
     "text": [
      " 94%|█████████▍| 94/100 [5:22:02<20:35, 205.99s/it]"
     ]
    },
    {
     "name": "stdout",
     "output_type": "stream",
     "text": [
      "\tTrain Loss:   1.844\n",
      "\tValid Loss:   2.841\n"
     ]
    },
    {
     "name": "stderr",
     "output_type": "stream",
     "text": [
      " 95%|█████████▌| 95/100 [5:25:28<17:10, 206.06s/it]"
     ]
    },
    {
     "name": "stdout",
     "output_type": "stream",
     "text": [
      "\tTrain Loss:   1.836\n",
      "\tValid Loss:   2.842\n"
     ]
    },
    {
     "name": "stderr",
     "output_type": "stream",
     "text": [
      " 96%|█████████▌| 96/100 [5:28:54<13:44, 206.00s/it]"
     ]
    },
    {
     "name": "stdout",
     "output_type": "stream",
     "text": [
      "\tTrain Loss:   1.828\n",
      "\tValid Loss:   2.844\n"
     ]
    },
    {
     "name": "stderr",
     "output_type": "stream",
     "text": [
      " 97%|█████████▋| 97/100 [5:32:19<10:17, 205.74s/it]"
     ]
    },
    {
     "name": "stdout",
     "output_type": "stream",
     "text": [
      "\tTrain Loss:   1.823\n",
      "\tValid Loss:   2.847\n"
     ]
    },
    {
     "name": "stderr",
     "output_type": "stream",
     "text": [
      " 98%|█████████▊| 98/100 [5:35:44<06:51, 205.59s/it]"
     ]
    },
    {
     "name": "stdout",
     "output_type": "stream",
     "text": [
      "\tTrain Loss:   1.817\n",
      "\tValid Loss:   2.852\n"
     ]
    },
    {
     "name": "stderr",
     "output_type": "stream",
     "text": [
      " 99%|█████████▉| 99/100 [5:39:10<03:25, 205.67s/it]"
     ]
    },
    {
     "name": "stdout",
     "output_type": "stream",
     "text": [
      "\tTrain Loss:   1.809\n",
      "\tValid Loss:   2.852\n"
     ]
    },
    {
     "name": "stderr",
     "output_type": "stream",
     "text": [
      "100%|██████████| 100/100 [5:42:36<00:00, 205.56s/it]"
     ]
    },
    {
     "name": "stdout",
     "output_type": "stream",
     "text": [
      "\tTrain Loss:   1.803\n",
      "\tValid Loss:   2.857\n"
     ]
    },
    {
     "name": "stderr",
     "output_type": "stream",
     "text": [
      "\n"
     ]
    }
   ],
   "source": [
    "for epoch in tqdm(range(n_epochs)):\n",
    "    train_loss = train_fn(\n",
    "        model,\n",
    "        train_data_loader,\n",
    "        optimizer,\n",
    "        criterion,\n",
    "        clip,\n",
    "        device)\n",
    "    \n",
    "    \n",
    "    valid_loss = evaluate_fn(\n",
    "        model,\n",
    "        test_data_loader,\n",
    "        criterion,\n",
    "        device,\n",
    "    )\n",
    "    if valid_loss < best_valid_loss:\n",
    "        best_valid_loss = valid_loss\n",
    "        torch.save(model.state_dict(), \"best-model.pt\")\n",
    "    print(f\"\\tTrain Loss: {train_loss:7.3f}\")\n",
    "    print(f\"\\tValid Loss: {valid_loss:7.3f}\")\n",
    "torch.save(model.state_dict(), \"last_model.pt\")"
   ]
  }
 ],
 "metadata": {
  "kaggle": {
   "accelerator": "nvidiaTeslaT4",
   "dataSources": [
    {
     "datasetId": 623289,
     "sourceId": 1111676,
     "sourceType": "datasetVersion"
    }
   ],
   "dockerImageVersionId": 30733,
   "isGpuEnabled": true,
   "isInternetEnabled": true,
   "language": "python",
   "sourceType": "notebook"
  },
  "kernelspec": {
   "display_name": "Python 3",
   "language": "python",
   "name": "python3"
  },
  "language_info": {
   "codemirror_mode": {
    "name": "ipython",
    "version": 3
   },
   "file_extension": ".py",
   "mimetype": "text/x-python",
   "name": "python",
   "nbconvert_exporter": "python",
   "pygments_lexer": "ipython3",
   "version": "3.11.0"
  },
  "papermill": {
   "default_parameters": {},
   "duration": 20581.724102,
   "end_time": "2024-07-06T10:39:26.343466",
   "environment_variables": {},
   "exception": null,
   "input_path": "__notebook__.ipynb",
   "output_path": "__notebook__.ipynb",
   "parameters": {},
   "start_time": "2024-07-06T04:56:24.619364",
   "version": "2.5.0"
  }
 },
 "nbformat": 4,
 "nbformat_minor": 5
}
